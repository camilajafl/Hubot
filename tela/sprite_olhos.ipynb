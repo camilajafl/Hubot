{
 "cells": [
  {
   "cell_type": "code",
   "execution_count": null,
   "id": "6949f9f2",
   "metadata": {},
   "outputs": [],
   "source": [
    "import os\n",
    "import pygame"
   ]
  },
  {
   "cell_type": "markdown",
   "id": "c2524aa5",
   "metadata": {},
   "source": [
    "# 1. Instalar o driver da Adafruit\n",
    "No terminal do Raspberry Pi:\n",
    "```bash\n",
    "sudo apt-get update\n",
    "sudo apt-get upgrade\n",
    "```\n",
    "```bash\n",
    "cd ~\n",
    "curl -SLs https://apt.adafruit.com/add | sudo bash\n",
    "sudo apt-get install -y adafruit-pitft-helper\n",
    "sudo adafruit-pitft-helper\n",
    "```\n",
    "\n",
    "- 3.5\" resistive display\n",
    "- framebuffer (console ou X)\n",
    "- touch\n",
    "\n",
    "```bash\n",
    "sudo reboot\n",
    "```\n",
    "```bash\n",
    "ls /dev/fb*\n",
    "```\n",
    "Se aparecer /dev/fb1, este é o display TFT. O /dev/fb0 geralmente é o HDMI/desktop.\n"
   ]
  },
  {
   "cell_type": "markdown",
   "id": "9bda70a8",
   "metadata": {},
   "source": [
    "## 1.1. Verificar os dispositivos framebuffer conectados\n",
    "No terminal da Raspberry Pi, execute:\n",
    "\n",
    "```bash\n",
    "ls /dev/fb*\n",
    "``` \n",
    "\n",
    "Isso vai listar os dispositivos framebuffer disponíveis. Normalmente:\n",
    "- /dev/fb0 é o framebuffer padrão, geralmente da saída HDMI ou display principal.\n",
    "\n",
    "- /dev/fb1 (ou superior) geralmente é do display adicional (como um display touchscreen conectado via SPI ou outro barramento)."
   ]
  },
  {
   "cell_type": "markdown",
   "id": "3933a671",
   "metadata": {},
   "source": [
    "## 1.2. Habilitação do touch\n",
    "\n",
    "Na instalação com adafruit-pitft-helper, você deve ter escolhido habilitar touch.\n",
    "O touch será mapeado para algo como /dev/input/touchscreen ou /dev/input/eventX.\n",
    "\n",
    "Calibração do toque:\n",
    "Algumas vezes o toque pode estar descalibrado (ex: tocar no canto e o cursor ir para outro ponto). Se isso acontecer, você pode usar ts_calibrate:\n",
    "```bash\n",
    "sudo apt-get install tslib\n",
    "sudo TSLIB_FBDEVICE=/dev/fb1 TSLIB_TSDEVICE=/dev/input/eventX ts_calibrate\n",
    "```\n",
    "Evite mostrar o cursor (não há ponteiro visível no touch):\n",
    "```bash\n",
    "pygame.mouse.set_visible(False)\n",
    "```"
   ]
  },
  {
   "cell_type": "markdown",
   "id": "0bf94500",
   "metadata": {},
   "source": [
    "# 2. Conexão Pygame - Dispaly\n"
   ]
  },
  {
   "cell_type": "code",
   "execution_count": null,
   "id": "e342b62b",
   "metadata": {},
   "outputs": [],
   "source": [
    "os.environ[\"SDL_VIDEODRIVER\"] = \"fbcon\"\n",
    "os.environ[\"SDL_FBDEV\"] = \"/dev/fb1\"  # ou fb0 se o display for principal\n",
    "os.environ[\"SDL_MOUSEDRV\"] = \"TSLIB\"\n",
    "os.environ[\"SDL_MOUSEDEV\"] = \"/dev/input/touchscreen\""
   ]
  },
  {
   "cell_type": "markdown",
   "id": "a5cb2bf7",
   "metadata": {},
   "source": [
    "# 3. Código para os olhos da raposa"
   ]
  },
  {
   "cell_type": "code",
   "execution_count": null,
   "id": "73c99360",
   "metadata": {},
   "outputs": [],
   "source": [
    "pygame.init()\n",
    "\n",
    "# Definição da tela\n",
    "screen = pygame.display.set_mode((480, 320))\n",
    "pygame.display.set_caption(\"Olhinhos de Raposa\")\n",
    "\n",
    "# Imagens da raposa\n",
    "image_1r = pygame.image.load(\"olhos/1r.jpeg\")\n",
    "image_2r = pygame.image.load(\"olhos/2r.jpeg\")\n",
    "image_4r = pygame.image.load(\"olhos/4r.jpeg\")\n",
    "image_5r = pygame.image.load(\"olhos/5r.jpeg\")\n",
    "\n",
    "# Posição e estados iniciais\n",
    "agent_x = 0\n",
    "agent_y = 0\n",
    "start_time = pygame.time.get_ticks()\n",
    "image_changed_time = None\n",
    "current_image = \"5r\"\n",
    "\n",
    "# Mostrar a imagem inicial (5r)\n",
    "screen.fill((200, 200, 200))\n",
    "screen.blit(image_5r, (agent_x, agent_y))\n",
    "pygame.display.flip()\n",
    "\n",
    "# Imagens na Tela sob Loop\n",
    "running = True\n",
    "while running:\n",
    "    print(\"Imagem atual:\", current_image)  # 👈 aqui\n",
    "\n",
    "    current_time = pygame.time.get_ticks()\n",
    "    mouse_x, _ = pygame.mouse.get_pos()\n",
    "\n",
    "    for event in pygame.event.get():\n",
    "        if event.type == pygame.QUIT:\n",
    "            running = False\n",
    "\n",
    "    # --- Lógica com base na posição do mouse ---\n",
    "    if mouse_x < 100:\n",
    "        if current_image != \"1r\":\n",
    "            screen.fill((200, 200, 200))\n",
    "            screen.blit(image_1r, (agent_x, agent_y))\n",
    "            pygame.display.flip()\n",
    "            current_image = \"1r\"\n",
    "            image_changed_time = None \n",
    "            start_time = pygame.time.get_ticks() \n",
    "            # print(\"Imagem atual:\", current_image) \n",
    "\n",
    "\n",
    "    elif mouse_x > 300:\n",
    "        if current_image != \"2r\":\n",
    "            screen.fill((200, 200, 200))\n",
    "            screen.blit(image_2r, (agent_x, agent_y))\n",
    "            pygame.display.flip()\n",
    "            current_image = \"2r\"\n",
    "            image_changed_time = None\n",
    "            start_time = pygame.time.get_ticks()\n",
    "            # print(\"Imagem atual:\", current_image) \n",
    "\n",
    "    else:\n",
    "        if current_image not in [\"4r\", \"5r\"]:\n",
    "            screen.fill((200, 200, 200))\n",
    "            screen.blit(image_5r, (agent_x, agent_y))\n",
    "            pygame.display.flip()\n",
    "            current_image = \"5r\"\n",
    "            print(\"Imagem atual:\", current_image)\n",
    "            start_time = pygame.time.get_ticks()\n",
    "            image_changed_time = None\n",
    "\n",
    "        elif image_changed_time is None and current_time - start_time >= 5000:\n",
    "            screen.fill((200, 200, 200))\n",
    "            screen.blit(image_4r, (agent_x, agent_y))\n",
    "            pygame.display.flip()\n",
    "            current_image = \"4r\"\n",
    "            print(\"Imagem atual:\", current_image)\n",
    "            image_changed_time = current_time\n",
    "\n",
    "        elif current_image == \"4r\" and current_time - image_changed_time >= 1000:\n",
    "            screen.fill((200, 200, 200))\n",
    "            screen.blit(image_5r, (agent_x, agent_y))\n",
    "            pygame.display.flip()\n",
    "            current_image = \"5r\"\n",
    "            print(\"Imagem atual:\", current_image)\n",
    "            start_time = pygame.time.get_ticks()\n",
    "            image_changed_time = None\n",
    "\n",
    "        # print(\"Imagem atual:\", current_image)\n",
    "\n",
    "pygame.quit()\n"
   ]
  },
  {
   "cell_type": "markdown",
   "id": "cf4484b7",
   "metadata": {},
   "source": [
    "# 4. Terminal\n",
    "Certifique-se de que o script está executando fora do ambiente gráfico (X) se você escolheu o modo \"Console\" na configuração.\n",
    "\n",
    "```bash\n",
    "python3 seu_script.py\n",
    "```"
   ]
  }
 ],
 "metadata": {
  "kernelspec": {
   "display_name": "base",
   "language": "python",
   "name": "python3"
  },
  "language_info": {
   "codemirror_mode": {
    "name": "ipython",
    "version": 3
   },
   "file_extension": ".py",
   "mimetype": "text/x-python",
   "name": "python",
   "nbconvert_exporter": "python",
   "pygments_lexer": "ipython3",
   "version": "3.9.12"
  }
 },
 "nbformat": 4,
 "nbformat_minor": 5
}
